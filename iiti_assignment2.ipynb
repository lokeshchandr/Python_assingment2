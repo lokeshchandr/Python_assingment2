{
  "nbformat": 4,
  "nbformat_minor": 0,
  "metadata": {
    "colab": {
      "provenance": [],
      "authorship_tag": "ABX9TyPijIuZx+XbuGsQgs0SbsW1",
      "include_colab_link": true
    },
    "kernelspec": {
      "name": "python3",
      "display_name": "Python 3"
    },
    "language_info": {
      "name": "python"
    }
  },
  "cells": [
    {
      "cell_type": "markdown",
      "metadata": {
        "id": "view-in-github",
        "colab_type": "text"
      },
      "source": [
        "<a href=\"https://colab.research.google.com/github/lokeshchandr/Python_assingment2/blob/main/iiti_assignment2.ipynb\" target=\"_parent\"><img src=\"https://colab.research.google.com/assets/colab-badge.svg\" alt=\"Open In Colab\"/></a>"
      ]
    },
    {
      "cell_type": "code",
      "source": [
        "import pandas as pd\n",
        "import numpy as np"
      ],
      "metadata": {
        "id": "wobR-i_H4TxF"
      },
      "execution_count": null,
      "outputs": []
    },
    {
      "cell_type": "code",
      "execution_count": null,
      "metadata": {
        "colab": {
          "base_uri": "https://localhost:8080/"
        },
        "id": "fDiwdMsasyia",
        "outputId": "bf146ecb-7b8c-4429-8fed-4203afa00997"
      },
      "outputs": [
        {
          "output_type": "stream",
          "name": "stdout",
          "text": [
            "Series from list:\n",
            "0     a\n",
            "1     b\n",
            "2     c\n",
            "3     d\n",
            "4     e\n",
            "5     f\n",
            "6     g\n",
            "7     h\n",
            "8     i\n",
            "9     j\n",
            "10    k\n",
            "11    l\n",
            "12    m\n",
            "13    n\n",
            "14    o\n",
            "15    p\n",
            "16    q\n",
            "17    r\n",
            "18    s\n",
            "19    t\n",
            "20    u\n",
            "21    v\n",
            "22    w\n",
            "23    x\n",
            "24    y\n",
            "25    z\n",
            "dtype: object\n",
            "\n",
            "Series from NumPy array:\n",
            "0      0\n",
            "1      1\n",
            "2      2\n",
            "3      3\n",
            "4      4\n",
            "5      5\n",
            "6      6\n",
            "7      7\n",
            "8      8\n",
            "9      9\n",
            "10    10\n",
            "11    11\n",
            "12    12\n",
            "13    13\n",
            "14    14\n",
            "15    15\n",
            "16    16\n",
            "17    17\n",
            "18    18\n",
            "19    19\n",
            "20    20\n",
            "21    21\n",
            "22    22\n",
            "23    23\n",
            "24    24\n",
            "25    25\n",
            "dtype: int64\n",
            "\n",
            "Series from dictionary:\n",
            "a     0\n",
            "b     1\n",
            "c     2\n",
            "d     3\n",
            "e     4\n",
            "f     5\n",
            "g     6\n",
            "h     7\n",
            "i     8\n",
            "j     9\n",
            "k    10\n",
            "l    11\n",
            "m    12\n",
            "n    13\n",
            "o    14\n",
            "p    15\n",
            "q    16\n",
            "r    17\n",
            "s    18\n",
            "t    19\n",
            "u    20\n",
            "v    21\n",
            "w    22\n",
            "x    23\n",
            "y    24\n",
            "z    25\n",
            "dtype: int64\n"
          ]
        }
      ],
      "source": [
        "\n",
        "mylist = list('abcdefghijklmnopqrstuvwxyz')\n",
        "myarr = np.arange(26)\n",
        "mydict = dict(zip(mylist, myarr))\n",
        "\n",
        "series_from_list = pd.Series(mylist)\n",
        "print(\"Series from list:\")\n",
        "print(series_from_list)\n",
        "\n",
        "\n",
        "series_from_array = pd.Series(myarr)\n",
        "print(\"\\nSeries from NumPy array:\")\n",
        "print(series_from_array)\n",
        "\n",
        "\n",
        "series_from_dict = pd.Series(mydict)\n",
        "print(\"\\nSeries from dictionary:\")\n",
        "print(series_from_dict)\n"
      ]
    },
    {
      "cell_type": "code",
      "source": [
        "import pandas as pd\n",
        "import numpy as np\n",
        "\n",
        "mylist = list('abcdefghijklmnopqrstuvwxyz')\n",
        "myarr = np.arange(26)\n",
        "mydict = dict(zip(mylist, myarr))\n",
        "ser = pd.Series(mydict)\n",
        "\n",
        "df = ser.reset_index()\n",
        "\n",
        "\n",
        "df.columns = ['letter', 'value']\n",
        "\n",
        "\n",
        "print(df)\n"
      ],
      "metadata": {
        "colab": {
          "base_uri": "https://localhost:8080/"
        },
        "id": "qrofYPSBuAqI",
        "outputId": "75cd7fc8-e860-4b6c-d803-185f8217e657"
      },
      "execution_count": null,
      "outputs": [
        {
          "output_type": "stream",
          "name": "stdout",
          "text": [
            "   letter  value\n",
            "0       a      0\n",
            "1       b      1\n",
            "2       c      2\n",
            "3       d      3\n",
            "4       e      4\n",
            "5       f      5\n",
            "6       g      6\n",
            "7       h      7\n",
            "8       i      8\n",
            "9       j      9\n",
            "10      k     10\n",
            "11      l     11\n",
            "12      m     12\n",
            "13      n     13\n",
            "14      o     14\n",
            "15      p     15\n",
            "16      q     16\n",
            "17      r     17\n",
            "18      s     18\n",
            "19      t     19\n",
            "20      u     20\n",
            "21      v     21\n",
            "22      w     22\n",
            "23      x     23\n",
            "24      y     24\n",
            "25      z     25\n"
          ]
        }
      ]
    },
    {
      "cell_type": "code",
      "source": [
        "\n",
        "import pandas as pd\n",
        "\n",
        "\n",
        "ser = pd.Series(np.random.normal(10, 5, 25))\n",
        "\n",
        "\n",
        "minimum = ser.min()\n",
        "percentile_25 = ser.quantile(0.25)\n",
        "median = ser.median()\n",
        "percentile_75 = ser.quantile(0.75)\n",
        "maximum = ser.max()\n",
        "\n",
        "\n",
        "print(\"Minimum:\", minimum)\n",
        "print(\"25th Percentile:\", percentile_25)\n",
        "print(\"Median:\", median)\n",
        "print(\"75th Percentile:\", percentile_75)\n",
        "print(\"Maximum:\", maximum)\n"
      ],
      "metadata": {
        "colab": {
          "base_uri": "https://localhost:8080/"
        },
        "id": "PaLEXHXYub-8",
        "outputId": "3345c393-3ed9-49ea-9130-f8f65597e604"
      },
      "execution_count": null,
      "outputs": [
        {
          "output_type": "stream",
          "name": "stdout",
          "text": [
            "Minimum: 4.408408768722819\n",
            "25th Percentile: 7.809321886477913\n",
            "Median: 11.105898346107002\n",
            "75th Percentile: 14.084235358428895\n",
            "Maximum: 18.0949083033763\n"
          ]
        }
      ]
    },
    {
      "cell_type": "code",
      "source": [
        "import pandas as pd\n",
        "import numpy as np\n",
        "\n",
        "ser1 = pd.Series(list('abcdefghijklmnopqrstuvwxyz'))\n",
        "ser2 = pd.Series(np.arange(26))\n",
        "\n",
        "\n",
        "df = pd.concat([ser1, ser2], axis=1)\n",
        "\n",
        "\n",
        "df.columns = ['letter', 'number']\n",
        "\n",
        "\n",
        "print(df)\n"
      ],
      "metadata": {
        "colab": {
          "base_uri": "https://localhost:8080/"
        },
        "id": "_8jIFpbdu5tD",
        "outputId": "fa075b56-600a-4621-dc96-5a91f05ab5fa"
      },
      "execution_count": null,
      "outputs": [
        {
          "output_type": "stream",
          "name": "stdout",
          "text": [
            "   letter  number\n",
            "0       a       0\n",
            "1       b       1\n",
            "2       c       2\n",
            "3       d       3\n",
            "4       e       4\n",
            "5       f       5\n",
            "6       g       6\n",
            "7       h       7\n",
            "8       i       8\n",
            "9       j       9\n",
            "10      k      10\n",
            "11      l      11\n",
            "12      m      12\n",
            "13      n      13\n",
            "14      o      14\n",
            "15      p      15\n",
            "16      q      16\n",
            "17      r      17\n",
            "18      s      18\n",
            "19      t      19\n",
            "20      u      20\n",
            "21      v      21\n",
            "22      w      22\n",
            "23      x      23\n",
            "24      y      24\n",
            "25      z      25\n"
          ]
        }
      ]
    },
    {
      "cell_type": "code",
      "source": [
        "import pandas as pd\n",
        "\n",
        "ser1 = pd.Series([1, 2, 3, 4, 5])\n",
        "ser2 = pd.Series([4, 5, 6, 7, 8])\n",
        "\n",
        "filtered_ser1 = ser1[~ser1.isin(ser2)]\n",
        "\n",
        "print(filtered_ser1)\n"
      ],
      "metadata": {
        "colab": {
          "base_uri": "https://localhost:8080/"
        },
        "id": "81eLQuxDvGlJ",
        "outputId": "1f56a375-6265-4b2d-b5e8-0f1b6d012e60"
      },
      "execution_count": null,
      "outputs": [
        {
          "output_type": "stream",
          "name": "stdout",
          "text": [
            "0    1\n",
            "1    2\n",
            "2    3\n",
            "dtype: int64\n"
          ]
        }
      ]
    },
    {
      "cell_type": "code",
      "source": [
        "import pandas as pd\n",
        "\n",
        "ser1 = pd.Series([1, 2, 3, 4, 5])\n",
        "ser2 = pd.Series([4, 5, 6, 7, 8])\n",
        "\n",
        "ser1_not_in_ser2 = ser1[~ser1.isin(ser2)]\n",
        "\n",
        "\n",
        "ser2_not_in_ser1 = ser2[~ser2.isin(ser1)]\n",
        "\n",
        "result = ser1_not_in_ser2.append(ser2_not_in_ser1)\n",
        "\n",
        "\n",
        "print(result)\n"
      ],
      "metadata": {
        "colab": {
          "base_uri": "https://localhost:8080/"
        },
        "id": "ckZwvswwwIzU",
        "outputId": "ea060baa-2bcf-467e-e1bd-c2de4ccd8e69"
      },
      "execution_count": null,
      "outputs": [
        {
          "output_type": "stream",
          "name": "stdout",
          "text": [
            "0    1\n",
            "1    2\n",
            "2    3\n",
            "2    6\n",
            "3    7\n",
            "4    8\n",
            "dtype: int64\n"
          ]
        },
        {
          "output_type": "stream",
          "name": "stderr",
          "text": [
            "<ipython-input-7-d612cdd20599>:11: FutureWarning: The series.append method is deprecated and will be removed from pandas in a future version. Use pandas.concat instead.\n",
            "  result = ser1_not_in_ser2.append(ser2_not_in_ser1)\n"
          ]
        }
      ]
    },
    {
      "cell_type": "code",
      "source": [
        "import pandas as pd\n",
        "\n",
        "\n",
        "ser = pd.Series(np.random.normal(10, 5, 25))\n",
        "\n",
        "minimum = ser.min()\n",
        "percentile_25 = ser.quantile(0.25)\n",
        "median = ser.median()\n",
        "percentile_75 = ser.quantile(0.75)\n",
        "maximum = ser.max()\n",
        "\n",
        "print(\"Minimum:\", minimum)\n",
        "print(\"25th Percentile:\", percentile_25)\n",
        "print(\"Median:\", median)\n",
        "print(\"75th Percentile:\", percentile_75)\n",
        "print(\"Maximum:\", maximum)\n"
      ],
      "metadata": {
        "colab": {
          "base_uri": "https://localhost:8080/"
        },
        "id": "yXF_uHtbwwFv",
        "outputId": "3d96e9e1-6d3d-4ad9-9e56-ffe7f2c5f180"
      },
      "execution_count": null,
      "outputs": [
        {
          "output_type": "stream",
          "name": "stdout",
          "text": [
            "Minimum: 2.8389904254136926\n",
            "25th Percentile: 7.487512289598497\n",
            "Median: 9.448579899814069\n",
            "75th Percentile: 12.369036589049704\n",
            "Maximum: 19.71795526479703\n"
          ]
        }
      ]
    },
    {
      "cell_type": "code",
      "source": [
        "import pandas as pd\n",
        "import numpy as np\n",
        "\n",
        "ser = pd.Series(np.take(list('abcdefgh'), np.random.randint(8, size=30)))\n",
        "\n",
        "#t0  Calculate the frequency counts of each unique value\n",
        "frequency_counts = ser.value_counts()\n",
        "\n",
        "\n",
        "print(frequency_counts)\n"
      ],
      "metadata": {
        "colab": {
          "base_uri": "https://localhost:8080/"
        },
        "id": "Lpc3HykIw__E",
        "outputId": "bac872f2-d6d1-4902-ca30-42501f92a95a"
      },
      "execution_count": null,
      "outputs": [
        {
          "output_type": "stream",
          "name": "stdout",
          "text": [
            "d    7\n",
            "g    5\n",
            "e    5\n",
            "h    4\n",
            "f    3\n",
            "a    2\n",
            "b    2\n",
            "c    2\n",
            "dtype: int64\n"
          ]
        }
      ]
    },
    {
      "cell_type": "code",
      "source": [
        "import pandas as pd\n",
        "import numpy as np\n",
        "\n",
        "np.random.seed(100)\n",
        "ser = pd.Series(np.random.randint(1, 5, [12]))\n",
        "\n",
        "# Calculate the frequency counts of each unique value\n",
        "value_counts = ser.value_counts()\n",
        "\n",
        "# Get the top 2 most frequent items\n",
        "top_frequent = value_counts.index[:2]\n",
        "\n",
        "# Replace everything else as 'Other'\n",
        "ser_replaced = ser.apply(lambda x: x if x in top_frequent else 'Other')\n",
        "\n",
        "# Display the result\n",
        "print(ser_replaced)\n"
      ],
      "metadata": {
        "colab": {
          "base_uri": "https://localhost:8080/"
        },
        "id": "ef8UcGHBxLEx",
        "outputId": "180f10e7-3451-47ce-d579-796211a257d7"
      },
      "execution_count": null,
      "outputs": [
        {
          "output_type": "stream",
          "name": "stdout",
          "text": [
            "0         1\n",
            "1         1\n",
            "2         4\n",
            "3         4\n",
            "4         4\n",
            "5         4\n",
            "6         1\n",
            "7     Other\n",
            "8     Other\n",
            "9         1\n",
            "10    Other\n",
            "11    Other\n",
            "dtype: object\n"
          ]
        }
      ]
    },
    {
      "cell_type": "markdown",
      "source": [
        "### **numpy**"
      ],
      "metadata": {
        "id": "0NZF710azYQ7"
      }
    },
    {
      "cell_type": "code",
      "source": [
        "# To get the common items between two Python NumPy arrays a and b,\n",
        "# we use the intersect1d() function from NumPy.\n",
        "# This function returns the sorted, unique values that are in both arrays."
      ],
      "metadata": {
        "id": "t75x8PMkzeTi"
      },
      "execution_count": null,
      "outputs": []
    },
    {
      "cell_type": "code",
      "source": [
        "import numpy as np\n",
        "\n",
        "a = np.array([1, 2, 3, 2, 3, 4, 3, 4, 5, 6])\n",
        "b = np.array([7, 2, 10, 2, 7, 4, 9, 4, 9, 8])\n",
        "\n",
        "# Get the common items between the two arrays\n",
        "common_items = np.intersect1d(a, b)\n",
        "\n",
        "print(common_items)"
      ],
      "metadata": {
        "colab": {
          "base_uri": "https://localhost:8080/"
        },
        "id": "rcOnqwdgzoXX",
        "outputId": "69c143e8-f084-4381-abe3-3ecddbaef89a"
      },
      "execution_count": null,
      "outputs": [
        {
          "output_type": "stream",
          "name": "stdout",
          "text": [
            "[2 4]\n"
          ]
        }
      ]
    },
    {
      "cell_type": "markdown",
      "source": [
        "to remove from one NumPy array a those items that exist in another array b, we use the setdiff1d() function from NumPy. This function returns the sorted, unique values that are in array a but not in array b."
      ],
      "metadata": {
        "id": "YY0rA856z7FL"
      }
    },
    {
      "cell_type": "code",
      "source": [
        "import numpy as np\n",
        "a = np.array([1, 2, 3, 4, 5])\n",
        "b = np.array([5, 6, 7, 8, 9])\n",
        "\n",
        "# Remove items from a that exist in b\n",
        "result = np.setdiff1d(a, b)\n",
        "\n",
        "\n",
        "print(result)\n"
      ],
      "metadata": {
        "colab": {
          "base_uri": "https://localhost:8080/"
        },
        "id": "uTowa8C00AmX",
        "outputId": "ea43c8ca-f2ae-4e50-8c30-1451e385c002"
      },
      "execution_count": null,
      "outputs": [
        {
          "output_type": "stream",
          "name": "stdout",
          "text": [
            "[1 2 3 4]\n"
          ]
        }
      ]
    },
    {
      "cell_type": "code",
      "source": [
        "import numpy as np\n",
        "\n",
        "a = np.array([2, 6, 1, 9, 10, 3, 27])\n",
        "\n",
        "#all items between 5 and 10 from array a\n",
        "result = a[(a >= 5) & (a <= 10)]\n",
        "\n",
        "print(result)\n"
      ],
      "metadata": {
        "colab": {
          "base_uri": "https://localhost:8080/"
        },
        "id": "NhnpfHJw0Owr",
        "outputId": "6329993d-1831-467c-c944-ead6ec54234b"
      },
      "execution_count": null,
      "outputs": [
        {
          "output_type": "stream",
          "name": "stdout",
          "text": [
            "[ 6  9 10]\n"
          ]
        }
      ]
    },
    {
      "cell_type": "code",
      "source": [
        "import numpy as np\n",
        "\n",
        "a = np.array([1, 2, 3, 2, 3, 4, 3, 4, 5, 6])\n",
        "b = np.array([7, 2, 10, 2, 7, 4, 9, 4, 9, 8])\n",
        "\n",
        "\n",
        "pos = np.where(a == b)[0]\n",
        "print(pos)\n"
      ],
      "metadata": {
        "colab": {
          "base_uri": "https://localhost:8080/"
        },
        "id": "LM849BF20dVK",
        "outputId": "6f2c35ba-619d-4c57-d7ac-a4955bd80075"
      },
      "execution_count": null,
      "outputs": [
        {
          "output_type": "stream",
          "name": "stdout",
          "text": [
            "[1 3 5 7]\n"
          ]
        }
      ]
    },
    {
      "cell_type": "code",
      "source": [
        "import numpy as np\n",
        "\n",
        "arr = np.arange(9).reshape(3, 3)\n",
        "\n",
        "\n",
        "reversed_arr = arr[::-1]\n",
        "\n",
        "\n",
        "print(reversed_arr)\n"
      ],
      "metadata": {
        "colab": {
          "base_uri": "https://localhost:8080/"
        },
        "id": "fPKUjafj1Aj0",
        "outputId": "2224bd15-50d2-48a0-de3a-f83258de7145"
      },
      "execution_count": null,
      "outputs": [
        {
          "output_type": "stream",
          "name": "stdout",
          "text": [
            "[[6 7 8]\n",
            " [3 4 5]\n",
            " [0 1 2]]\n"
          ]
        }
      ]
    },
    {
      "cell_type": "code",
      "source": [
        "import numpy as np\n",
        "\n",
        "iris_data = np.genfromtxt('Iris.csv', delimiter=',', skip_header=1, usecols=[1])\n",
        "\n",
        "mean_sepallength = np.mean(iris_data)\n",
        "median_sepallength = np.median(iris_data)\n",
        "std_sepallength = np.std(iris_data)\n",
        "\n",
        "\n",
        "print(\"Mean Sepal Length:\", mean_sepallength)\n",
        "print(\"Median Sepal Length:\", median_sepallength)\n",
        "print(\"Standard Deviation of Sepal Length:\", std_sepallength)\n",
        "\n"
      ],
      "metadata": {
        "colab": {
          "base_uri": "https://localhost:8080/"
        },
        "id": "X1eO84LX1IuN",
        "outputId": "30b28fd3-b33f-4c36-ea64-7c3a7e67a674"
      },
      "execution_count": null,
      "outputs": [
        {
          "output_type": "stream",
          "name": "stdout",
          "text": [
            "Mean Sepal Length: 5.843333333333334\n",
            "Median Sepal Length: 5.8\n",
            "Standard Deviation of Sepal Length: 0.8253012917851409\n"
          ]
        }
      ]
    },
    {
      "cell_type": "code",
      "source": [
        "\n",
        "iris_data = np.genfromtxt('Iris.csv', delimiter=',', skip_header=1, usecols=[1])\n",
        "min_sepallength = np.min(iris_data)\n",
        "max_sepallength = np.max(iris_data)\n",
        "\n",
        "normalized_sepallength = (iris_data - min_sepallength) / (max_sepallength - min_sepallength)\n",
        "\n",
        "print(normalized_sepallength)\n"
      ],
      "metadata": {
        "colab": {
          "base_uri": "https://localhost:8080/"
        },
        "id": "pjpoiwWs2jBE",
        "outputId": "857a2589-b437-4f8e-9c2b-3ef2f90fcb2e"
      },
      "execution_count": null,
      "outputs": [
        {
          "output_type": "stream",
          "name": "stdout",
          "text": [
            "[0.22222222 0.16666667 0.11111111 0.08333333 0.19444444 0.30555556\n",
            " 0.08333333 0.19444444 0.02777778 0.16666667 0.30555556 0.13888889\n",
            " 0.13888889 0.         0.41666667 0.38888889 0.30555556 0.22222222\n",
            " 0.38888889 0.22222222 0.30555556 0.22222222 0.08333333 0.22222222\n",
            " 0.13888889 0.19444444 0.19444444 0.25       0.25       0.11111111\n",
            " 0.13888889 0.30555556 0.25       0.33333333 0.16666667 0.19444444\n",
            " 0.33333333 0.16666667 0.02777778 0.22222222 0.19444444 0.05555556\n",
            " 0.02777778 0.19444444 0.22222222 0.13888889 0.22222222 0.08333333\n",
            " 0.27777778 0.19444444 0.75       0.58333333 0.72222222 0.33333333\n",
            " 0.61111111 0.38888889 0.55555556 0.16666667 0.63888889 0.25\n",
            " 0.19444444 0.44444444 0.47222222 0.5        0.36111111 0.66666667\n",
            " 0.36111111 0.41666667 0.52777778 0.36111111 0.44444444 0.5\n",
            " 0.55555556 0.5        0.58333333 0.63888889 0.69444444 0.66666667\n",
            " 0.47222222 0.38888889 0.33333333 0.33333333 0.41666667 0.47222222\n",
            " 0.30555556 0.47222222 0.66666667 0.55555556 0.36111111 0.33333333\n",
            " 0.33333333 0.5        0.41666667 0.19444444 0.36111111 0.38888889\n",
            " 0.38888889 0.52777778 0.22222222 0.38888889 0.55555556 0.41666667\n",
            " 0.77777778 0.55555556 0.61111111 0.91666667 0.16666667 0.83333333\n",
            " 0.66666667 0.80555556 0.61111111 0.58333333 0.69444444 0.38888889\n",
            " 0.41666667 0.58333333 0.61111111 0.94444444 0.94444444 0.47222222\n",
            " 0.72222222 0.36111111 0.94444444 0.55555556 0.66666667 0.80555556\n",
            " 0.52777778 0.5        0.58333333 0.80555556 0.86111111 1.\n",
            " 0.58333333 0.55555556 0.5        0.94444444 0.55555556 0.58333333\n",
            " 0.47222222 0.72222222 0.66666667 0.72222222 0.41666667 0.69444444\n",
            " 0.66666667 0.66666667 0.55555556 0.61111111 0.52777778 0.44444444]\n"
          ]
        }
      ]
    },
    {
      "cell_type": "code",
      "source": [
        "import numpy as np\n",
        "\n",
        "# Load data from 'winequality-red.csv'\n",
        "wine_quality = np.genfromtxt('winequality-red.csv', delimiter=',', dtype='float', usecols=[0, 1, 2, 3, 4, 5, 6, 7, 8, 9, 10], skip_header=1)\n",
        "\n",
        "wine_quality[np.isnan(wine_quality)] = 0\n",
        "print(wine_quality)\n"
      ],
      "metadata": {
        "colab": {
          "base_uri": "https://localhost:8080/",
          "height": 425
        },
        "id": "xLIqlB0-3a43",
        "outputId": "9b6209a7-52a8-4aab-d206-dcaee85ca340"
      },
      "execution_count": null,
      "outputs": [
        {
          "output_type": "error",
          "ename": "FileNotFoundError",
          "evalue": "ignored",
          "traceback": [
            "\u001b[0;31m---------------------------------------------------------------------------\u001b[0m",
            "\u001b[0;31mFileNotFoundError\u001b[0m                         Traceback (most recent call last)",
            "\u001b[0;32m<ipython-input-41-5bc464456327>\u001b[0m in \u001b[0;36m<cell line: 4>\u001b[0;34m()\u001b[0m\n\u001b[1;32m      2\u001b[0m \u001b[0;34m\u001b[0m\u001b[0m\n\u001b[1;32m      3\u001b[0m \u001b[0;31m# Load data from 'winequality-red.csv'\u001b[0m\u001b[0;34m\u001b[0m\u001b[0;34m\u001b[0m\u001b[0m\n\u001b[0;32m----> 4\u001b[0;31m \u001b[0mwine_quality\u001b[0m \u001b[0;34m=\u001b[0m \u001b[0mnp\u001b[0m\u001b[0;34m.\u001b[0m\u001b[0mgenfromtxt\u001b[0m\u001b[0;34m(\u001b[0m\u001b[0;34m'mustroom.csv'\u001b[0m\u001b[0;34m,\u001b[0m \u001b[0mdelimiter\u001b[0m\u001b[0;34m=\u001b[0m\u001b[0;34m','\u001b[0m\u001b[0;34m,\u001b[0m \u001b[0mdtype\u001b[0m\u001b[0;34m=\u001b[0m\u001b[0;34m'float'\u001b[0m\u001b[0;34m,\u001b[0m \u001b[0musecols\u001b[0m\u001b[0;34m=\u001b[0m\u001b[0;34m[\u001b[0m\u001b[0;36m0\u001b[0m\u001b[0;34m,\u001b[0m \u001b[0;36m1\u001b[0m\u001b[0;34m,\u001b[0m \u001b[0;36m2\u001b[0m\u001b[0;34m,\u001b[0m \u001b[0;36m3\u001b[0m\u001b[0;34m,\u001b[0m \u001b[0;36m4\u001b[0m\u001b[0;34m,\u001b[0m \u001b[0;36m5\u001b[0m\u001b[0;34m,\u001b[0m \u001b[0;36m6\u001b[0m\u001b[0;34m,\u001b[0m \u001b[0;36m7\u001b[0m\u001b[0;34m,\u001b[0m \u001b[0;36m8\u001b[0m\u001b[0;34m,\u001b[0m \u001b[0;36m9\u001b[0m\u001b[0;34m,\u001b[0m \u001b[0;36m10\u001b[0m\u001b[0;34m]\u001b[0m\u001b[0;34m,\u001b[0m \u001b[0mskip_header\u001b[0m\u001b[0;34m=\u001b[0m\u001b[0;36m1\u001b[0m\u001b[0;34m)\u001b[0m\u001b[0;34m\u001b[0m\u001b[0;34m\u001b[0m\u001b[0m\n\u001b[0m\u001b[1;32m      5\u001b[0m \u001b[0;34m\u001b[0m\u001b[0m\n\u001b[1;32m      6\u001b[0m \u001b[0mwine_quality\u001b[0m\u001b[0;34m[\u001b[0m\u001b[0mnp\u001b[0m\u001b[0;34m.\u001b[0m\u001b[0misnan\u001b[0m\u001b[0;34m(\u001b[0m\u001b[0mwine_quality\u001b[0m\u001b[0;34m)\u001b[0m\u001b[0;34m]\u001b[0m \u001b[0;34m=\u001b[0m \u001b[0;36m0\u001b[0m\u001b[0;34m\u001b[0m\u001b[0;34m\u001b[0m\u001b[0m\n",
            "\u001b[0;32m/usr/local/lib/python3.10/dist-packages/numpy/lib/npyio.py\u001b[0m in \u001b[0;36mgenfromtxt\u001b[0;34m(fname, dtype, comments, delimiter, skip_header, skip_footer, converters, missing_values, filling_values, usecols, names, excludelist, deletechars, replace_space, autostrip, case_sensitive, defaultfmt, unpack, usemask, loose, invalid_raise, max_rows, encoding, like)\u001b[0m\n\u001b[1;32m   1811\u001b[0m             \u001b[0mfname\u001b[0m \u001b[0;34m=\u001b[0m \u001b[0mos_fspath\u001b[0m\u001b[0;34m(\u001b[0m\u001b[0mfname\u001b[0m\u001b[0;34m)\u001b[0m\u001b[0;34m\u001b[0m\u001b[0;34m\u001b[0m\u001b[0m\n\u001b[1;32m   1812\u001b[0m         \u001b[0;32mif\u001b[0m \u001b[0misinstance\u001b[0m\u001b[0;34m(\u001b[0m\u001b[0mfname\u001b[0m\u001b[0;34m,\u001b[0m \u001b[0mstr\u001b[0m\u001b[0;34m)\u001b[0m\u001b[0;34m:\u001b[0m\u001b[0;34m\u001b[0m\u001b[0;34m\u001b[0m\u001b[0m\n\u001b[0;32m-> 1813\u001b[0;31m             \u001b[0mfid\u001b[0m \u001b[0;34m=\u001b[0m \u001b[0mnp\u001b[0m\u001b[0;34m.\u001b[0m\u001b[0mlib\u001b[0m\u001b[0;34m.\u001b[0m\u001b[0m_datasource\u001b[0m\u001b[0;34m.\u001b[0m\u001b[0mopen\u001b[0m\u001b[0;34m(\u001b[0m\u001b[0mfname\u001b[0m\u001b[0;34m,\u001b[0m \u001b[0;34m'rt'\u001b[0m\u001b[0;34m,\u001b[0m \u001b[0mencoding\u001b[0m\u001b[0;34m=\u001b[0m\u001b[0mencoding\u001b[0m\u001b[0;34m)\u001b[0m\u001b[0;34m\u001b[0m\u001b[0;34m\u001b[0m\u001b[0m\n\u001b[0m\u001b[1;32m   1814\u001b[0m             \u001b[0mfid_ctx\u001b[0m \u001b[0;34m=\u001b[0m \u001b[0mcontextlib\u001b[0m\u001b[0;34m.\u001b[0m\u001b[0mclosing\u001b[0m\u001b[0;34m(\u001b[0m\u001b[0mfid\u001b[0m\u001b[0;34m)\u001b[0m\u001b[0;34m\u001b[0m\u001b[0;34m\u001b[0m\u001b[0m\n\u001b[1;32m   1815\u001b[0m         \u001b[0;32melse\u001b[0m\u001b[0;34m:\u001b[0m\u001b[0;34m\u001b[0m\u001b[0;34m\u001b[0m\u001b[0m\n",
            "\u001b[0;32m/usr/local/lib/python3.10/dist-packages/numpy/lib/_datasource.py\u001b[0m in \u001b[0;36mopen\u001b[0;34m(path, mode, destpath, encoding, newline)\u001b[0m\n\u001b[1;32m    191\u001b[0m \u001b[0;34m\u001b[0m\u001b[0m\n\u001b[1;32m    192\u001b[0m     \u001b[0mds\u001b[0m \u001b[0;34m=\u001b[0m \u001b[0mDataSource\u001b[0m\u001b[0;34m(\u001b[0m\u001b[0mdestpath\u001b[0m\u001b[0;34m)\u001b[0m\u001b[0;34m\u001b[0m\u001b[0;34m\u001b[0m\u001b[0m\n\u001b[0;32m--> 193\u001b[0;31m     \u001b[0;32mreturn\u001b[0m \u001b[0mds\u001b[0m\u001b[0;34m.\u001b[0m\u001b[0mopen\u001b[0m\u001b[0;34m(\u001b[0m\u001b[0mpath\u001b[0m\u001b[0;34m,\u001b[0m \u001b[0mmode\u001b[0m\u001b[0;34m,\u001b[0m \u001b[0mencoding\u001b[0m\u001b[0;34m=\u001b[0m\u001b[0mencoding\u001b[0m\u001b[0;34m,\u001b[0m \u001b[0mnewline\u001b[0m\u001b[0;34m=\u001b[0m\u001b[0mnewline\u001b[0m\u001b[0;34m)\u001b[0m\u001b[0;34m\u001b[0m\u001b[0;34m\u001b[0m\u001b[0m\n\u001b[0m\u001b[1;32m    194\u001b[0m \u001b[0;34m\u001b[0m\u001b[0m\n\u001b[1;32m    195\u001b[0m \u001b[0;34m\u001b[0m\u001b[0m\n",
            "\u001b[0;32m/usr/local/lib/python3.10/dist-packages/numpy/lib/_datasource.py\u001b[0m in \u001b[0;36mopen\u001b[0;34m(self, path, mode, encoding, newline)\u001b[0m\n\u001b[1;32m    530\u001b[0m                                       encoding=encoding, newline=newline)\n\u001b[1;32m    531\u001b[0m         \u001b[0;32melse\u001b[0m\u001b[0;34m:\u001b[0m\u001b[0;34m\u001b[0m\u001b[0;34m\u001b[0m\u001b[0m\n\u001b[0;32m--> 532\u001b[0;31m             \u001b[0;32mraise\u001b[0m \u001b[0mFileNotFoundError\u001b[0m\u001b[0;34m(\u001b[0m\u001b[0;34mf\"{path} not found.\"\u001b[0m\u001b[0;34m)\u001b[0m\u001b[0;34m\u001b[0m\u001b[0;34m\u001b[0m\u001b[0m\n\u001b[0m\u001b[1;32m    533\u001b[0m \u001b[0;34m\u001b[0m\u001b[0m\n\u001b[1;32m    534\u001b[0m \u001b[0;34m\u001b[0m\u001b[0m\n",
            "\u001b[0;31mFileNotFoundError\u001b[0m: mustroom.csv not found."
          ]
        }
      ]
    },
    {
      "cell_type": "code",
      "source": [
        "import numpy as np\n",
        "\n",
        "# Loading data from 'mushrooms.csv'\n",
        "mushroom = np.genfromtxt('mushrooms.csv', delimiter=',', dtype=object, usecols=[0], skip_header=1)\n",
        "\n",
        "unique_values, counts = np.unique(mushroom, return_counts=True)\n",
        "for value, count in zip(unique_values, counts):\n",
        "    print(f\"{value}: {count}\")\n"
      ],
      "metadata": {
        "colab": {
          "base_uri": "https://localhost:8080/"
        },
        "id": "6xzqhkt-5QuP",
        "outputId": "58733050-2048-465a-890f-65f9002ad443"
      },
      "execution_count": null,
      "outputs": [
        {
          "output_type": "stream",
          "name": "stdout",
          "text": [
            "b'e': 4208\n",
            "b'p': 3916\n"
          ]
        }
      ]
    },
    {
      "cell_type": "code",
      "source": [
        "import numpy as np\n",
        "\n",
        "# Loading data from 'diabetes.csv'\n",
        "diabetes_data = np.genfromtxt('diabetes.csv', delimiter=',', dtype='float', usecols=[0, 1, 2, 3, 4, 5, 6, 7], skip_header=1)\n",
        "\n",
        "# Checking for NaN values in each row\n",
        "row_mask = ~np.isnan(diabetes_data).any(axis=1)\n",
        "\n",
        "# Selecting  rows that do not have any NaN value\n",
        "rows_without_nan = diabetes_data[row_mask]\n",
        "print(rows_without_nan)\n"
      ],
      "metadata": {
        "colab": {
          "base_uri": "https://localhost:8080/"
        },
        "id": "3l_RlPhx6Shj",
        "outputId": "688ca73f-ee15-4a14-c352-0bc3953da844"
      },
      "execution_count": null,
      "outputs": [
        {
          "output_type": "stream",
          "name": "stdout",
          "text": [
            "[[  6.    148.     72.    ...  33.6     0.627  50.   ]\n",
            " [  1.     85.     66.    ...  26.6     0.351  31.   ]\n",
            " [  8.    183.     64.    ...  23.3     0.672  32.   ]\n",
            " ...\n",
            " [  5.    121.     72.    ...  26.2     0.245  30.   ]\n",
            " [  1.    126.     60.    ...  30.1     0.349  47.   ]\n",
            " [  1.     93.     70.    ...  30.4     0.315  23.   ]]\n"
          ]
        }
      ]
    }
  ]
}