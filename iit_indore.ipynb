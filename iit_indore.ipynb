{
  "nbformat": 4,
  "nbformat_minor": 0,
  "metadata": {
    "colab": {
      "provenance": [],
      "authorship_tag": "ABX9TyMBBGuwr7VXW73ySqHlGL/i",
      "include_colab_link": true
    },
    "kernelspec": {
      "name": "python3",
      "display_name": "Python 3"
    },
    "language_info": {
      "name": "python"
    }
  },
  "cells": [
    {
      "cell_type": "markdown",
      "metadata": {
        "id": "view-in-github",
        "colab_type": "text"
      },
      "source": [
        "<a href=\"https://colab.research.google.com/github/lokeshchandr/Python_assingment2/blob/main/iit_indore.ipynb\" target=\"_parent\"><img src=\"https://colab.research.google.com/assets/colab-badge.svg\" alt=\"Open In Colab\"/></a>"
      ]
    },
    {
      "cell_type": "code",
      "execution_count": null,
      "metadata": {
        "id": "yKTcznCD8DwI"
      },
      "outputs": [],
      "source": [
        "a = int (input(\"enter the value of A:\"))\n",
        "b = int (input(\"enter the value of B:\"))\n",
        "sum = a+b\n",
        "sub = a-b\n",
        "div =a/b\n",
        "mul= a*b\n",
        "print (sum)\n",
        "print (sub)\n",
        "print (div)\n",
        "print (mul)"
      ]
    },
    {
      "cell_type": "markdown",
      "source": [
        "##lcm\n"
      ],
      "metadata": {
        "id": "8rRcgZWSDDvw"
      }
    },
    {
      "cell_type": "code",
      "source": [
        "def lcm(x,y):\n",
        "  if (x>y):\n",
        "    great=x\n",
        "  else:\n",
        "    great=y\n",
        "  while (True):\n",
        "   if ((great % x == 0) and (great % y == 0)):\n",
        "    lcm= great;\n",
        "    break;\n",
        "   great+=1\n",
        "  return lcm\n",
        "print (\"enter the value of X:\")\n",
        "x=int(input())\n",
        "print (\"enter the value of Y:\")\n",
        "y=int(input())\n",
        "\n",
        "print(\"the lcm of X and Y is:\",lcm(x,y))"
      ],
      "metadata": {
        "colab": {
          "base_uri": "https://localhost:8080/"
        },
        "id": "c7A5aYng_MMp",
        "outputId": "066feb88-c779-4bd0-b812-919de3e267ec"
      },
      "execution_count": null,
      "outputs": [
        {
          "output_type": "stream",
          "name": "stdout",
          "text": [
            "enter the value of X:\n",
            "5\n",
            "enter the value of Y:\n",
            "20\n",
            "the lcm of X and Y is: 20\n"
          ]
        }
      ]
    },
    {
      "cell_type": "code",
      "source": [
        "def hcf(x, y):\n",
        "    if x > y:\n",
        "        smaller = y\n",
        "    else:\n",
        "        smaller = x\n",
        "    for i in range(1, smaller+1):\n",
        "        if((x % i == 0) and (y % i == 0)):\n",
        "            hcf = i\n",
        "    return hcf\n",
        "\n",
        "a=int(input(\"enetr the value\"))\n",
        "b=int(input(\"enetr the value\"))\n",
        "\n",
        "print(\"The H.C.F. is\", hcf(a, b))"
      ],
      "metadata": {
        "colab": {
          "base_uri": "https://localhost:8080/"
        },
        "id": "xNSxo715C6fL",
        "outputId": "8b63279a-9fd6-4707-b2e8-07de68b1ed86"
      },
      "execution_count": null,
      "outputs": [
        {
          "output_type": "stream",
          "name": "stdout",
          "text": [
            "enetr the value5\n",
            "enetr the value10\n",
            "The H.C.F. is 5\n"
          ]
        }
      ]
    },
    {
      "cell_type": "markdown",
      "source": [
        " list operation in python"
      ],
      "metadata": {
        "id": "j6tWikHa8IT5"
      }
    },
    {
      "cell_type": "code",
      "source": [
        "# marging of list\n",
        "def merge_lists(list1, list2):\n",
        "    merged_list = list1 + list2\n",
        "    return merged_list\n",
        "\n",
        "list1 = [1, 2, 3]\n",
        "list2 = [4, 5, 6]\n",
        "merged_list = merge_lists(list1, list2)\n",
        "print(merged_list)\n"
      ],
      "metadata": {
        "colab": {
          "base_uri": "https://localhost:8080/"
        },
        "id": "7FVZDoFY8LcX",
        "outputId": "66bc3784-65e3-4076-d747-1727d17f8e60"
      },
      "execution_count": 2,
      "outputs": [
        {
          "output_type": "stream",
          "name": "stdout",
          "text": [
            "[1, 2, 3, 4, 5, 6]\n"
          ]
        }
      ]
    },
    {
      "cell_type": "code",
      "source": [
        "#interchanging\n",
        "def interchange_first_last(lst):\n",
        "    if len(lst) >= 2:\n",
        "        lst[0], lst[-1] = lst[-1], lst[0]\n",
        "\n",
        "my_list = [1, 2, 3, 4, 5]\n",
        "interchange_first_last(my_list)\n",
        "print(my_list)\n"
      ],
      "metadata": {
        "colab": {
          "base_uri": "https://localhost:8080/"
        },
        "id": "bMoqNk7q8iKN",
        "outputId": "cbe658e3-a52f-44eb-b2f2-a30004ef3f65"
      },
      "execution_count": 5,
      "outputs": [
        {
          "output_type": "stream",
          "name": "stdout",
          "text": [
            "[5, 2, 3, 4, 1]\n"
          ]
        }
      ]
    },
    {
      "cell_type": "code",
      "source": [
        "#even number from list\n",
        "def feven_num(lst):\n",
        "    even_num = [num for num in lst if num % 2 == 0]\n",
        "    return even_num\n",
        "\n",
        "my_list = [1, 2, 3, 4, 5, 6, 7, 8]\n",
        "even_num = feven_num(my_list)\n",
        "print(even_num)\n"
      ],
      "metadata": {
        "colab": {
          "base_uri": "https://localhost:8080/"
        },
        "id": "pCi_rrez8zYu",
        "outputId": "9d318a1c-9e8c-4753-d5c1-28f6d67367b1"
      },
      "execution_count": 6,
      "outputs": [
        {
          "output_type": "stream",
          "name": "stdout",
          "text": [
            "[2, 4, 6, 8]\n"
          ]
        }
      ]
    },
    {
      "cell_type": "code",
      "source": [
        "#list is asending or not\n",
        "def is_ascending(lst):\n",
        "    return all(lst[i] <= lst[i + 1] for i in range(len(lst) - 1))\n",
        "\n",
        "user_input = input(\"Enter a list of numbers separated by spaces: \")\n",
        "user_list = [int(num) for num in user_input.split()]\n",
        "\n",
        "if is_ascending(user_list):\n",
        "    print(\"The given list is in ascending order.\")\n",
        "else:\n",
        "    print(\"The given list is not in ascending order.\")\n"
      ],
      "metadata": {
        "colab": {
          "base_uri": "https://localhost:8080/"
        },
        "id": "qTKZUVZP9Le2",
        "outputId": "e25dd4b4-ad3c-4164-cbf2-97453fe625ce"
      },
      "execution_count": 9,
      "outputs": [
        {
          "output_type": "stream",
          "name": "stdout",
          "text": [
            "Enter a list of numbers separated by spaces: 1 2 6 9 8 \n",
            "The given list is not in ascending order.\n"
          ]
        }
      ]
    },
    {
      "cell_type": "markdown",
      "source": [
        "##tuple operation"
      ],
      "metadata": {
        "id": "R64V3BpH-VDP"
      }
    },
    {
      "cell_type": "code",
      "source": [
        "#Print Sum of Tuple\n",
        "def tuple_sum(tup):\n",
        "    return sum(tup)\n",
        "\n",
        "user_input = input(\"Enter a tuple of numbers: \")\n",
        "user_tuple = tuple(map(int, user_input.split()))\n",
        "\n",
        "\n",
        "total_sum = tuple_sum(user_tuple)\n",
        "print(\"Sum of Tuple Elements:\", total_sum)\n",
        "\n"
      ],
      "metadata": {
        "colab": {
          "base_uri": "https://localhost:8080/"
        },
        "id": "GbHlv_vh-YY8",
        "outputId": "6bdfbd31-a3cc-4e37-87e7-7d6bb51da1f4"
      },
      "execution_count": 11,
      "outputs": [
        {
          "output_type": "stream",
          "name": "stdout",
          "text": [
            "Enter a tuple of numbers: 1 2 5 6 9 \n",
            "Sum of Tuple Elements: 23\n"
          ]
        }
      ]
    },
    {
      "cell_type": "code",
      "source": [
        "#finding element in tuple\n",
        "def Tuple(element, tup):\n",
        "    return element in tup\n",
        "\n",
        "my_tuple = (10, 20, 30, 40, 50)\n",
        "element_to_check = 30\n",
        "\n",
        "if Tuple(element_to_check, my_tuple):\n",
        "    print(f\"{element_to_check} is present in the tuple.\")\n",
        "else:\n",
        "    print(f\"{element_to_check} is not present in the tuple.\")\n"
      ],
      "metadata": {
        "colab": {
          "base_uri": "https://localhost:8080/"
        },
        "id": "PJQLlUOY-tKB",
        "outputId": "7718760b-411f-4675-bfe8-f4978c476f5a"
      },
      "execution_count": 20,
      "outputs": [
        {
          "output_type": "stream",
          "name": "stdout",
          "text": [
            "30 is present in the tuple.\n"
          ]
        }
      ]
    }
  ]
}